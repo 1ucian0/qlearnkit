{
 "cells": [
  {
   "cell_type": "code",
   "execution_count": 1,
   "id": "43d38274",
   "metadata": {
    "execution": {
     "iopub.execute_input": "2021-12-26T01:56:19.675894Z",
     "iopub.status.busy": "2021-12-26T01:56:19.674375Z",
     "iopub.status.idle": "2021-12-26T01:56:22.442596Z",
     "shell.execute_reply": "2021-12-26T01:56:22.441272Z"
    }
   },
   "outputs": [
    {
     "name": "stdout",
     "output_type": "stream",
     "text": [
      "Testing accuracy: 0.95\n"
     ]
    }
   ],
   "source": [
    "import numpy as np\n",
    "from qlkit.algorithms import QSVClassifier\n",
    "from qiskit import BasicAer\n",
    "from qiskit.utils import QuantumInstance, algorithm_globals\n",
    "from sklearn.datasets import load_iris\n",
    "from sklearn.model_selection import train_test_split\n",
    "from qiskit.circuit.library import ZZFeatureMap\n",
    "\n",
    "seed = 42\n",
    "algorithm_globals.random_seed = seed\n",
    "\n",
    "quantum_instance = QuantumInstance(BasicAer.get_backend('statevector_simulator'),\n",
    "                                   shots=1024,\n",
    "                                   optimization_level=1,\n",
    "                                   seed_simulator=seed,\n",
    "                                   seed_transpiler=seed)\n",
    "\n",
    "# Use iris data set for training and test data\n",
    "X, y = load_iris(return_X_y=True)\n",
    "\n",
    "num_features = 2\n",
    "X = np.asarray([x[0:num_features] for x, y_ in zip(X, y) if y_ != 2])\n",
    "y = np.asarray([y_ for x, y_ in zip(X, y) if y_ != 2])\n",
    "\n",
    "encoding_map = ZZFeatureMap(2)\n",
    "\n",
    "qsvc = QSVClassifier(\n",
    "    encoding_map=encoding_map,\n",
    "    quantum_instance=quantum_instance\n",
    ")\n",
    "\n",
    "# use iris dataset\n",
    "X_train, X_test, y_train, y_test = train_test_split(X, y, test_size=0.20, random_state=seed)\n",
    "qsvc.fit(X_train, y_train)\n",
    "\n",
    "print(f\"Testing accuracy: \"\n",
    "      f\"{qsvc.score(X_test, y_test):0.2f}\")"
   ]
  },
  {
   "cell_type": "code",
   "execution_count": 2,
   "id": "761d0c1d",
   "metadata": {
    "execution": {
     "iopub.execute_input": "2021-12-26T01:56:22.450588Z",
     "iopub.status.busy": "2021-12-26T01:56:22.449921Z",
     "iopub.status.idle": "2021-12-26T01:56:23.340021Z",
     "shell.execute_reply": "2021-12-26T01:56:23.340732Z"
    }
   },
   "outputs": [
    {
     "name": "stdout",
     "output_type": "stream",
     "text": [
      "Testing accuracy: 0.95\n"
     ]
    }
   ],
   "source": [
    "import numpy as np\n",
    "from qlkit.algorithms import QSVClassifier\n",
    "from qiskit import BasicAer\n",
    "from qiskit.utils import QuantumInstance, algorithm_globals\n",
    "from sklearn.datasets import load_iris\n",
    "from sklearn.model_selection import train_test_split\n",
    "from qiskit.circuit.library import ZZFeatureMap\n",
    "\n",
    "seed = 42\n",
    "algorithm_globals.random_seed = seed\n",
    "\n",
    "quantum_instance = QuantumInstance(BasicAer.get_backend('statevector_simulator'),\n",
    "                                   shots=1024,\n",
    "                                   optimization_level=1,\n",
    "                                   seed_simulator=seed,\n",
    "                                   seed_transpiler=seed)\n",
    "\n",
    "# Use iris data set for training and test data\n",
    "X, y = load_iris(return_X_y=True)\n",
    "\n",
    "num_features = 2\n",
    "X = np.asarray([x[0:num_features] for x, y_ in zip(X, y) if y_ != 2])\n",
    "y = np.asarray([y_ for x, y_ in zip(X, y) if y_ != 2])\n",
    "\n",
    "encoding_map = ZZFeatureMap(2)\n",
    "\n",
    "qsvc = QSVClassifier(\n",
    "    encoding_map=encoding_map,\n",
    "    quantum_instance=quantum_instance\n",
    ")\n",
    "\n",
    "# use iris dataset\n",
    "X_train, X_test, y_train, y_test = train_test_split(X, y, test_size=0.20, random_state=seed)\n",
    "qsvc.fit(X_train, y_train)\n",
    "\n",
    "print(f\"Testing accuracy: \"\n",
    "      f\"{qsvc.score(X_test, y_test):0.2f}\")"
   ]
  }
 ],
 "metadata": {
  "kernelspec": {
   "display_name": "Python 3 (ipykernel)",
   "language": "python",
   "name": "python3"
  },
  "language_info": {
   "codemirror_mode": {
    "name": "ipython",
    "version": 3
   },
   "file_extension": ".py",
   "mimetype": "text/x-python",
   "name": "python",
   "nbconvert_exporter": "python",
   "pygments_lexer": "ipython3",
   "version": "3.8.10"
  }
 },
 "nbformat": 4,
 "nbformat_minor": 5
}