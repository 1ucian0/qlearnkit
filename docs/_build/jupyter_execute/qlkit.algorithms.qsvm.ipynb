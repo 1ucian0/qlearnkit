{
 "cells": [
  {
   "cell_type": "code",
   "execution_count": 1,
   "id": "ac85207e",
   "metadata": {
    "execution": {
     "iopub.execute_input": "2021-12-24T14:11:40.560658Z",
     "iopub.status.busy": "2021-12-24T14:11:40.559888Z",
     "iopub.status.idle": "2021-12-24T14:11:44.082873Z",
     "shell.execute_reply": "2021-12-24T14:11:44.081503Z"
    }
   },
   "outputs": [
    {
     "name": "stdout",
     "output_type": "stream",
     "text": [
      "Test Accuracy: 0.95\n"
     ]
    }
   ],
   "source": [
    "import qiskit\n",
    "import numpy as np\n",
    "from qlkit.algorithms import QSVClassifier\n",
    "from qiskit.providers import BaseBackend\n",
    "from qiskit.circuit.library import ZZFeatureMap\n",
    "from sklearn.datasets import load_iris\n",
    "from sklearn.model_selection import train_test_split\n",
    "import matplotlib.pyplot as plt\n",
    "\n",
    "# preparing the parameters for the algorithm\n",
    "encoding_map = ZZFeatureMap(2)\n",
    "backend: BaseBackend = qiskit.Aer.get_backend('aer_simulator_statevector')\n",
    "\n",
    "qsvc = QSVClassifier(\n",
    "    encoding_map=encoding_map,\n",
    "    backend=backend\n",
    ")\n",
    "\n",
    "X, y = load_iris(return_X_y=True)\n",
    "X = np.asarray([x[0:2] for x, y_ in zip(X, y) if y_ != 2])\n",
    "y = np.asarray([y_ for x, y_ in zip(X, y) if y_ != 2])\n",
    "\n",
    "X_train, X_test, y_train, y_test = train_test_split(X, y, test_size=0.20, random_state=42)\n",
    "qsvc.fit(X_train, y_train)\n",
    "\n",
    "print(\"Test Accuracy: {}\".format(\n",
    "    qsvc.score(X_test, y_test)\n",
    "))"
   ]
  },
  {
   "cell_type": "code",
   "execution_count": 2,
   "id": "3636ec17",
   "metadata": {
    "execution": {
     "iopub.execute_input": "2021-12-24T14:11:44.092087Z",
     "iopub.status.busy": "2021-12-24T14:11:44.091521Z",
     "iopub.status.idle": "2021-12-24T14:11:45.415980Z",
     "shell.execute_reply": "2021-12-24T14:11:45.416831Z"
    }
   },
   "outputs": [
    {
     "name": "stdout",
     "output_type": "stream",
     "text": [
      "Test Accuracy: 0.95\n"
     ]
    }
   ],
   "source": [
    "import qiskit\n",
    "import numpy as np\n",
    "from qlkit.algorithms import QSVClassifier\n",
    "from qiskit.providers import BaseBackend\n",
    "from qiskit.circuit.library import ZZFeatureMap\n",
    "from sklearn.datasets import load_iris\n",
    "from sklearn.model_selection import train_test_split\n",
    "import matplotlib.pyplot as plt\n",
    "\n",
    "# preparing the parameters for the algorithm\n",
    "encoding_map = ZZFeatureMap(2)\n",
    "backend: BaseBackend = qiskit.Aer.get_backend('aer_simulator_statevector')\n",
    "\n",
    "qsvc = QSVClassifier(\n",
    "    encoding_map=encoding_map,\n",
    "    backend=backend\n",
    ")\n",
    "\n",
    "X, y = load_iris(return_X_y=True)\n",
    "X = np.asarray([x[0:2] for x, y_ in zip(X, y) if y_ != 2])\n",
    "y = np.asarray([y_ for x, y_ in zip(X, y) if y_ != 2])\n",
    "\n",
    "X_train, X_test, y_train, y_test = train_test_split(X, y, test_size=0.20, random_state=42)\n",
    "qsvc.fit(X_train, y_train)\n",
    "\n",
    "print(\"Test Accuracy: {}\".format(\n",
    "    qsvc.score(X_test, y_test)\n",
    "))"
   ]
  }
 ],
 "metadata": {
  "kernelspec": {
   "display_name": "Python 3 (ipykernel)",
   "language": "python",
   "name": "python3"
  },
  "language_info": {
   "codemirror_mode": {
    "name": "ipython",
    "version": 3
   },
   "file_extension": ".py",
   "mimetype": "text/x-python",
   "name": "python",
   "nbconvert_exporter": "python",
   "pygments_lexer": "ipython3",
   "version": "3.8.10"
  }
 },
 "nbformat": 4,
 "nbformat_minor": 5
}