{
 "cells": [
  {
   "cell_type": "code",
   "execution_count": 1,
   "id": "d5d3528f",
   "metadata": {
    "execution": {
     "iopub.execute_input": "2021-12-24T12:49:58.780519Z",
     "iopub.status.busy": "2021-12-24T12:49:58.777216Z",
     "iopub.status.idle": "2021-12-24T12:50:18.063054Z",
     "shell.execute_reply": "2021-12-24T12:50:18.063682Z"
    }
   },
   "outputs": [
    {
     "data": {
      "image/png": "[encoded data removed]",
      "text/plain": [
       "<Figure size 432x288 with 1 Axes>"
      ]
     },
     "metadata": {
      "filenames": {
       "image/png": "/home/mspronesti/Desktop/qlkit/docs/_build/jupyter_execute/qlkit.algorithms.qkmeans_0_0.png"
      },
      "needs_background": "light"
     },
     "output_type": "display_data"
    },
    {
     "name": "stdout",
     "output_type": "stream",
     "text": [
      "[0 0 0 1 2 2 2 0 2 2 2 1 0 2 0 2 0 0 1 2]\n"
     ]
    }
   ],
   "source": [
    "import numpy as np\n",
    "import qiskit\n",
    "from qiskit.providers import BaseBackend\n",
    "from qlkit.algorithms.qkmeans.qkmeans import QKMeans\n",
    "from sklearn.datasets import load_iris\n",
    "from sklearn.model_selection import train_test_split\n",
    "from matplotlib import pyplot as plt\n",
    "\n",
    "# preparing the parameters for the algorithm\n",
    "backend: BaseBackend = qiskit.Aer.get_backend('qasm_simulator')\n",
    "\n",
    "qkmeans = QKMeans(\n",
    "        n_clusters=3,\n",
    "        backend=backend\n",
    "        )\n",
    "\n",
    "X, y = load_iris(return_X_y=True)\n",
    "X = np.asarray([x[0:2] for x, y_ in zip(X, y) if y_ != 2])\n",
    "y = np.asarray([y_ for x, y_ in zip(X, y) if y_ != 2])\n",
    "\n",
    "X_train, X_test, y_train, y_test = train_test_split(X, y, test_size=0.20, random_state=42)\n",
    "\n",
    "# Perform quantum kmeans clustering\n",
    "qkmeans.fit(X_train, y_train)\n",
    "\n",
    "# Plot the results\n",
    "colors = ['blue', 'orange', 'green']\n",
    "for i in range(X_train.shape[0]):\n",
    "    plt.scatter(X_train[i, 0], X_train[i, 1], color=colors[qkmeans.clusters[i]])\n",
    "plt.scatter(qkmeans.centroids[:, 0], qkmeans.centroids[:, 1], marker='*', c='g', s=150)\n",
    "plt.show()\n",
    "\n",
    "# Predict new points\n",
    "prediction = qkmeans.predict(X_test)\n",
    "print(prediction)"
   ]
  },
  {
   "cell_type": "code",
   "execution_count": 2,
   "id": "7c617148",
   "metadata": {
    "execution": {
     "iopub.execute_input": "2021-12-24T12:50:18.080955Z",
     "iopub.status.busy": "2021-12-24T12:50:18.079688Z",
     "iopub.status.idle": "2021-12-24T12:50:36.526887Z",
     "shell.execute_reply": "2021-12-24T12:50:36.525588Z"
    }
   },
   "outputs": [
    {
     "data": {
      "image/png": "[encoded data removed]",
      "text/plain": [
       "<Figure size 432x288 with 1 Axes>"
      ]
     },
     "metadata": {
      "filenames": {
       "image/png": "/home/mspronesti/Desktop/qlkit/docs/_build/jupyter_execute/qlkit.algorithms.qkmeans_1_0.png"
      },
      "needs_background": "light"
     },
     "output_type": "display_data"
    },
    {
     "name": "stdout",
     "output_type": "stream",
     "text": [
      "[0 0 0 1 2 2 2 0 2 2 2 1 0 2 0 2 0 0 1 2]\n"
     ]
    }
   ],
   "source": [
    "import numpy as np\n",
    "import qiskit\n",
    "from qiskit.providers import BaseBackend\n",
    "from qlkit.algorithms.qkmeans.qkmeans import QKMeans\n",
    "from sklearn.datasets import load_iris\n",
    "from sklearn.model_selection import train_test_split\n",
    "from matplotlib import pyplot as plt\n",
    "\n",
    "# preparing the parameters for the algorithm\n",
    "backend: BaseBackend = qiskit.Aer.get_backend('qasm_simulator')\n",
    "\n",
    "qkmeans = QKMeans(\n",
    "        n_clusters=3,\n",
    "        backend=backend\n",
    "        )\n",
    "\n",
    "X, y = load_iris(return_X_y=True)\n",
    "X = np.asarray([x[0:2] for x, y_ in zip(X, y) if y_ != 2])\n",
    "y = np.asarray([y_ for x, y_ in zip(X, y) if y_ != 2])\n",
    "\n",
    "X_train, X_test, y_train, y_test = train_test_split(X, y, test_size=0.20, random_state=42)\n",
    "\n",
    "# Perform quantum kmeans clustering\n",
    "qkmeans.fit(X_train, y_train)\n",
    "\n",
    "# Plot the results\n",
    "colors = ['blue', 'orange', 'green']\n",
    "for i in range(X_train.shape[0]):\n",
    "    plt.scatter(X_train[i, 0], X_train[i, 1], color=colors[qkmeans.clusters[i]])\n",
    "plt.scatter(qkmeans.centroids[:, 0], qkmeans.centroids[:, 1], marker='*', c='g', s=150)\n",
    "plt.show()\n",
    "\n",
    "# Predict new points\n",
    "prediction = qkmeans.predict(X_test)\n",
    "print(prediction)"
   ]
  }
 ],
 "metadata": {
  "kernelspec": {
   "display_name": "Python 3 (ipykernel)",
   "language": "python",
   "name": "python3"
  },
  "language_info": {
   "codemirror_mode": {
    "name": "ipython",
    "version": 3
   },
   "file_extension": ".py",
   "mimetype": "text/x-python",
   "name": "python",
   "nbconvert_exporter": "python",
   "pygments_lexer": "ipython3",
   "version": "3.8.10"
  }
 },
 "nbformat": 4,
 "nbformat_minor": 5
}