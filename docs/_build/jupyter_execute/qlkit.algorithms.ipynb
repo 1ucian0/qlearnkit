{
 "cells": [
  {
   "cell_type": "code",
   "execution_count": 1,
   "id": "fa02e3e7",
   "metadata": {
    "execution": {
     "iopub.execute_input": "2021-12-24T14:10:12.448808Z",
     "iopub.status.busy": "2021-12-24T14:10:12.447677Z",
     "iopub.status.idle": "2021-12-24T14:10:29.735220Z",
     "shell.execute_reply": "2021-12-24T14:10:29.735673Z"
    }
   },
   "outputs": [
    {
     "data": {
      "image/png": "[encoded data removed]",
      "text/plain": [
       "<Figure size 432x288 with 1 Axes>"
      ]
     },
     "metadata": {
      "filenames": {
       "image/png": "/home/mspronesti/Desktop/qlkit/docs/_build/jupyter_execute/qlkit.algorithms_0_0.png"
      },
      "needs_background": "light"
     },
     "output_type": "display_data"
    },
    {
     "name": "stdout",
     "output_type": "stream",
     "text": [
      "[0 0 0 1 2 2 2 0 2 2 2 1 0 2 0 2 0 0 1 2]\n"
     ]
    }
   ],
   "source": [
    "import numpy as np\n",
    "import qiskit\n",
    "from qiskit.providers import BaseBackend\n",
    "from qlkit.algorithms.qkmeans.qkmeans import QKMeans\n",
    "from sklearn.datasets import load_iris\n",
    "from sklearn.model_selection import train_test_split\n",
    "from matplotlib import pyplot as plt\n",
    "\n",
    "# preparing the parameters for the algorithm\n",
    "backend: BaseBackend = qiskit.Aer.get_backend('qasm_simulator')\n",
    "\n",
    "qkmeans = QKMeans(\n",
    "        n_clusters=3,\n",
    "        backend=backend\n",
    "        )\n",
    "\n",
    "X, y = load_iris(return_X_y=True)\n",
    "X = np.asarray([x[0:2] for x, y_ in zip(X, y) if y_ != 2])\n",
    "y = np.asarray([y_ for x, y_ in zip(X, y) if y_ != 2])\n",
    "\n",
    "X_train, X_test, y_train, y_test = train_test_split(X, y, test_size=0.20, random_state=42)\n",
    "\n",
    "# Perform quantum kmeans clustering\n",
    "qkmeans.fit(X_train, y_train)\n",
    "\n",
    "# Plot the results\n",
    "colors = ['blue', 'orange', 'green']\n",
    "for i in range(X_train.shape[0]):\n",
    "    plt.scatter(X_train[i, 0], X_train[i, 1], color=colors[qkmeans.clusters[i]])\n",
    "plt.scatter(qkmeans.centroids[:, 0], qkmeans.centroids[:, 1], marker='*', c='g', s=150)\n",
    "plt.show()\n",
    "\n",
    "# Predict new points\n",
    "prediction = qkmeans.predict(X_test)\n",
    "print(prediction)"
   ]
  },
  {
   "cell_type": "code",
   "execution_count": 2,
   "id": "87d20df7",
   "metadata": {
    "execution": {
     "iopub.execute_input": "2021-12-24T14:10:29.751288Z",
     "iopub.status.busy": "2021-12-24T14:10:29.750560Z",
     "iopub.status.idle": "2021-12-24T14:10:39.563763Z",
     "shell.execute_reply": "2021-12-24T14:10:39.562874Z"
    }
   },
   "outputs": [
    {
     "name": "stdout",
     "output_type": "stream",
     "text": [
      "[1 1 1 0 0 0 0 1 0 0 0 0 1 0 1 0 1 1 0 0]\n",
      "[1 1 1 0 0 0 0 1 0 0 0 0 1 0 1 0 1 1 0 0]\n",
      "Test Accuracy: 1.0\n"
     ]
    }
   ],
   "source": [
    "import qiskit\n",
    "from qiskit.providers import BaseBackend\n",
    "import numpy as np\n",
    "from qlkit.algorithms import QKNeighborsClassifier\n",
    "from sklearn.datasets import load_iris\n",
    "from sklearn.model_selection import train_test_split\n",
    "from qlkit.encodings import AmplitudeEncoding\n",
    "\n",
    "# preparing the parameters for the algorithm\n",
    "encoding_map = AmplitudeEncoding()\n",
    "backend: BaseBackend = qiskit.Aer.get_backend('qasm_simulator')\n",
    "\n",
    "qknn = QKNeighborsClassifier(\n",
    "    n_neighbors=3,\n",
    "    encoding_map=encoding_map,\n",
    "    backend=backend\n",
    ")\n",
    "\n",
    "X, y = load_iris(return_X_y=True)\n",
    "X = np.asarray([x[0:2] for x, y_ in zip(X, y) if y_ != 2 ])\n",
    "y = np.asarray([y_ for x, y_ in zip(X, y) if y_ != 2])\n",
    "\n",
    "X_train, X_test, y_train, y_test = train_test_split(X, y, test_size=0.20, random_state=42)\n",
    "qknn.fit(X_train, y_train)\n",
    "\n",
    "prediction = qknn.predict(X_test)\n",
    "print(prediction)\n",
    "print(y_test)\n",
    "\n",
    "print(\"Test Accuracy: {}\".format(\n",
    "    sum([1 if p == t else 0 for p, t in zip(prediction, y_test)]) / len(prediction)\n",
    "))"
   ]
  },
  {
   "cell_type": "code",
   "execution_count": 3,
   "id": "2d6df2d0",
   "metadata": {
    "execution": {
     "iopub.execute_input": "2021-12-24T14:10:39.584661Z",
     "iopub.status.busy": "2021-12-24T14:10:39.583842Z",
     "iopub.status.idle": "2021-12-24T14:10:42.225049Z",
     "shell.execute_reply": "2021-12-24T14:10:42.223576Z"
    }
   },
   "outputs": [
    {
     "name": "stdout",
     "output_type": "stream",
     "text": [
      "Test Accuracy: 0.95\n"
     ]
    }
   ],
   "source": [
    "import qiskit\n",
    "import numpy as np\n",
    "from qlkit.algorithms import QSVClassifier\n",
    "from qiskit.providers import BaseBackend\n",
    "from qiskit.circuit.library import ZZFeatureMap\n",
    "from sklearn.datasets import load_iris\n",
    "from sklearn.model_selection import train_test_split\n",
    "import matplotlib.pyplot as plt\n",
    "\n",
    "# preparing the parameters for the algorithm\n",
    "encoding_map = ZZFeatureMap(2)\n",
    "backend: BaseBackend = qiskit.Aer.get_backend('aer_simulator_statevector')\n",
    "\n",
    "qsvc = QSVClassifier(\n",
    "    encoding_map=encoding_map,\n",
    "    backend=backend\n",
    ")\n",
    "\n",
    "X, y = load_iris(return_X_y=True)\n",
    "X = np.asarray([x[0:2] for x, y_ in zip(X, y) if y_ != 2])\n",
    "y = np.asarray([y_ for x, y_ in zip(X, y) if y_ != 2])\n",
    "\n",
    "X_train, X_test, y_train, y_test = train_test_split(X, y, test_size=0.20, random_state=42)\n",
    "qsvc.fit(X_train, y_train)\n",
    "\n",
    "print(\"Test Accuracy: {}\".format(\n",
    "    qsvc.score(X_test, y_test)\n",
    "))"
   ]
  }
 ],
 "metadata": {
  "kernelspec": {
   "display_name": "Python 3 (ipykernel)",
   "language": "python",
   "name": "python3"
  },
  "language_info": {
   "codemirror_mode": {
    "name": "ipython",
    "version": 3
   },
   "file_extension": ".py",
   "mimetype": "text/x-python",
   "name": "python",
   "nbconvert_exporter": "python",
   "pygments_lexer": "ipython3",
   "version": "3.8.10"
  }
 },
 "nbformat": 4,
 "nbformat_minor": 5
}