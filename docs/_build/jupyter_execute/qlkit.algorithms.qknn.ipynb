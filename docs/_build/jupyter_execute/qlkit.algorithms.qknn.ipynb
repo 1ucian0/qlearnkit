{
 "cells": [
  {
   "cell_type": "code",
   "execution_count": 1,
   "id": "f03159d5",
   "metadata": {
    "execution": {
     "iopub.execute_input": "2021-12-24T12:50:37.855615Z",
     "iopub.status.busy": "2021-12-24T12:50:37.854216Z",
     "iopub.status.idle": "2021-12-24T12:50:48.275218Z",
     "shell.execute_reply": "2021-12-24T12:50:48.274399Z"
    }
   },
   "outputs": [
    {
     "name": "stdout",
     "output_type": "stream",
     "text": [
      "[1 1 1 0 0 0 0 1 0 0 0 0 1 0 1 0 1 1 0 0]\n",
      "[1 1 1 0 0 0 0 1 0 0 0 0 1 0 1 0 1 1 0 0]\n",
      "Test Accuracy: 1.0\n"
     ]
    }
   ],
   "source": [
    "import qiskit\n",
    "from qiskit.providers import BaseBackend\n",
    "import numpy as np\n",
    "from qlkit.algorithms import QKNeighborsClassifier\n",
    "from sklearn.datasets import load_iris\n",
    "from sklearn.model_selection import train_test_split\n",
    "from qlkit.encodings import AmplitudeEncoding\n",
    "\n",
    "# preparing the parameters for the algorithm\n",
    "encoding_map = AmplitudeEncoding()\n",
    "backend: BaseBackend = qiskit.Aer.get_backend('qasm_simulator')\n",
    "\n",
    "qknn = QKNeighborsClassifier(\n",
    "    n_neighbors=3,\n",
    "    encoding_map=encoding_map,\n",
    "    backend=backend\n",
    ")\n",
    "\n",
    "X, y = load_iris(return_X_y=True)\n",
    "X = np.asarray([x[0:2] for x, y_ in zip(X, y) if y_ != 2 ])\n",
    "y = np.asarray([y_ for x, y_ in zip(X, y) if y_ != 2])\n",
    "\n",
    "X_train, X_test, y_train, y_test = train_test_split(X, y, test_size=0.20, random_state=42)\n",
    "qknn.fit(X_train, y_train)\n",
    "\n",
    "prediction = qknn.predict(X_test)\n",
    "print(prediction)\n",
    "print(y_test)\n",
    "\n",
    "print(\"Test Accuracy: {}\".format(\n",
    "    sum([1 if p == t else 0 for p, t in zip(prediction, y_test)]) / len(prediction)\n",
    "))"
   ]
  },
  {
   "cell_type": "code",
   "execution_count": 2,
   "id": "0f7ebd46",
   "metadata": {
    "execution": {
     "iopub.execute_input": "2021-12-24T12:50:48.296064Z",
     "iopub.status.busy": "2021-12-24T12:50:48.294916Z",
     "iopub.status.idle": "2021-12-24T12:50:58.331477Z",
     "shell.execute_reply": "2021-12-24T12:50:58.330654Z"
    }
   },
   "outputs": [
    {
     "name": "stdout",
     "output_type": "stream",
     "text": [
      "[1 1 1 0 0 0 0 1 0 0 0 0 1 0 1 0 1 1 0 0]\n",
      "[1 1 1 0 0 0 0 1 0 0 0 0 1 0 1 0 1 1 0 0]\n",
      "Test Accuracy: 1.0\n"
     ]
    }
   ],
   "source": [
    "import qiskit\n",
    "from qiskit.providers import BaseBackend\n",
    "import numpy as np\n",
    "from qlkit.algorithms import QKNeighborsClassifier\n",
    "from sklearn.datasets import load_iris\n",
    "from sklearn.model_selection import train_test_split\n",
    "from qlkit.encodings import AmplitudeEncoding\n",
    "\n",
    "# preparing the parameters for the algorithm\n",
    "encoding_map = AmplitudeEncoding()\n",
    "backend: BaseBackend = qiskit.Aer.get_backend('qasm_simulator')\n",
    "\n",
    "qknn = QKNeighborsClassifier(\n",
    "    n_neighbors=3,\n",
    "    encoding_map=encoding_map,\n",
    "    backend=backend\n",
    ")\n",
    "\n",
    "X, y = load_iris(return_X_y=True)\n",
    "X = np.asarray([x[0:2] for x, y_ in zip(X, y) if y_ != 2 ])\n",
    "y = np.asarray([y_ for x, y_ in zip(X, y) if y_ != 2])\n",
    "\n",
    "X_train, X_test, y_train, y_test = train_test_split(X, y, test_size=0.20, random_state=42)\n",
    "qknn.fit(X_train, y_train)\n",
    "\n",
    "prediction = qknn.predict(X_test)\n",
    "print(prediction)\n",
    "print(y_test)\n",
    "\n",
    "print(\"Test Accuracy: {}\".format(\n",
    "    sum([1 if p == t else 0 for p, t in zip(prediction, y_test)]) / len(prediction)\n",
    "))"
   ]
  }
 ],
 "metadata": {
  "kernelspec": {
   "display_name": "Python 3 (ipykernel)",
   "language": "python",
   "name": "python3"
  },
  "language_info": {
   "codemirror_mode": {
    "name": "ipython",
    "version": 3
   },
   "file_extension": ".py",
   "mimetype": "text/x-python",
   "name": "python",
   "nbconvert_exporter": "python",
   "pygments_lexer": "ipython3",
   "version": "3.8.10"
  }
 },
 "nbformat": 4,
 "nbformat_minor": 5
}